{
 "cells": [
  {
   "cell_type": "markdown",
   "metadata": {},
   "source": [
    "# Price Prediction Model\n",
    "\n",
    "Regression Models are realiable for identifying patterns need For Prediction. These patterns are analyze relationships within variables to produce weighted predictions. \n",
    "\n",
    "Linear Regression is a powerful and common method to estimate values. This model in statistics allows us to levearge past measured behaviors to predict future behavior. Regression works on the line equation \"y=mx+c\". The goal of linear regression is to draw a trend line a to predict the outcome.\n"
   ]
  },
  {
   "cell_type": "markdown",
   "metadata": {},
   "source": [
    "\n",
    "## Background Information- Machine Learing\n",
    "“Machine Learning – it’s a field of study that gives computers the ability to learn without being explicitly programmed” –  Arthur Samuel\n",
    "\n",
    "**Types:**\n",
    "**Supervised learning:** the goal here would be to train a model that allows predictions to be made on unseen future data. For this to happen data must be labeled\n",
    "\n",
    "**Unsupervised learning**: this type of learning works with unlabeled data and its goal would be to find hidden patterns in this data, and, probably some meaningful information\n",
    "\n",
    "**Reinforcement learning:** the goal here would be to develop a system that learns and improves over time by interacting with the environment."
   ]
  },
  {
   "cell_type": "code",
   "execution_count": 1,
   "metadata": {},
   "outputs": [],
   "source": [
    "# HEADERS \n",
    "import pandas as pd # data processing\n",
    "import numpy as np # working with arrays\n",
    "import matplotlib.pyplot as plt # visualization\n",
    "import seaborn as sb # visualization\n",
    "from termcolor import colored as cl # text customization\n",
    "\n",
    "from sklearn.model_selection import train_test_split # data split\n",
    "\n",
    "from sklearn.linear_model import LinearRegression # OLS algorithm\n",
    "from sklearn.linear_model import Ridge # Ridge algorithm\n",
    "from sklearn.linear_model import Lasso # Lasso algorithm\n",
    "from sklearn.linear_model import BayesianRidge # Bayesian algorithm\n",
    "from sklearn.linear_model import ElasticNet # ElasticNet algorithm\n",
    "from sklearn.svm import SVC \n",
    "from sklearn.metrics import classification_report, confusion_matrix\n",
    "\n",
    "from sklearn.metrics import explained_variance_score as evs # evaluation metric\n",
    "from sklearn.metrics import r2_score as r2 # evaluation metric"
   ]
  },
  {
   "cell_type": "code",
   "execution_count": 2,
   "metadata": {},
   "outputs": [
    {
     "name": "stdout",
     "output_type": "stream",
     "text": [
      "Clean Data from Source 1: \n",
      "                                              Address  Beds  Baths  \\\n",
      "0  ['1808','S','Bumby','Avenue','Orlando','FL','3...     3    2.0   \n",
      "1  ['8429','Leeland','Archer','Blvd','Orlando','F...     4    3.0   \n",
      "\n",
      "   Square Feet Property Type  Listing Price  \n",
      "0         1246   Residential         450000  \n",
      "1         1512   Residential         425000  \n",
      "\n",
      "Number of Rows:  2312\n",
      "Dataset Original Data Types : \n",
      " Address          object\n",
      "Beds              int64\n",
      "Baths             int64\n",
      "Square Feet       int64\n",
      "Property Type    string\n",
      "Listing Price     int64\n",
      "dtype: object\n",
      "\n",
      "Number of Unique Rows:  2262\n"
     ]
    }
   ],
   "source": [
    "# FINAL DATA SOURCE\n",
    "\n",
    "missing_values = [\"N/A\", \"NaN\"]\n",
    "\n",
    "#READING FROM CSV FILE\n",
    "dataSource = pd.read_csv(\n",
    "    \"/Users/rburgess/Documents/GitHub/Webscrapping/Pricing Model Prjct/Data/DS1_Cleaned.csv\", na_values=missing_values)\n",
    "print(\"Clean Data from Source 1: \\n\", dataSource.head(2))\n",
    "print('\\nNumber of Rows: ',len(dataSource))\n",
    "\n",
    "# FORMATTING COLUMN DATA TYPES\n",
    "dataSource = dataSource.astype({'Beds':'int', 'Baths':'int','Square Feet': 'int','Property Type': 'string','Listing Price': 'int'})\n",
    "\n",
    "# DROP DUPLICATES\n",
    "dataSource.drop_duplicates(subset=[\"Address\"], keep=\"last\", inplace=True)\n",
    "\n",
    "\n",
    "print(\"Dataset Original Data Types : \\n\",cl(dataSource.dtypes, attrs = ['bold']))\n",
    "print('\\nNumber of Unique Rows: ',len(dataSource))"
   ]
  },
  {
   "cell_type": "code",
   "execution_count": 3,
   "metadata": {},
   "outputs": [
    {
     "name": "stdout",
     "output_type": "stream",
     "text": [
      "Dataset Final Data Type : \n",
      " Address          object\n",
      "Beds              int64\n",
      "Baths             int64\n",
      "Square Feet       int64\n",
      "Property Type    string\n",
      "Listing Price     int64\n",
      "dtype: object\n"
     ]
    }
   ],
   "source": [
    "# FORMATTING COLUMN DATA TYPES\n",
    "dataSource = dataSource.astype({'Beds':'int', 'Baths':'int','Square Feet': 'int','Property Type': 'string','Listing Price': 'int'})\n",
    "print(\"Dataset Final Data Type : \\n\",cl(dataSource.dtypes, attrs = ['bold']))\n"
   ]
  },
  {
   "cell_type": "code",
   "execution_count": 4,
   "metadata": {},
   "outputs": [
    {
     "name": "stdout",
     "output_type": "stream",
     "text": [
      "X_train samples : \n",
      " [[   1    1  930]\n",
      " [   3    2 3445]\n",
      " [   4    4 2616]\n",
      " [   2    1  713]\n",
      " [   2    3 1449]]\n",
      "X_test samples : \n",
      " [[   3    2 1198]\n",
      " [   2    2 1093]\n",
      " [   4    3 2724]\n",
      " [   3    2 1678]\n",
      " [   3    2 1328]]\n",
      "y_train samples : \n",
      " [ 195000 1200000  749000  220000  489995]\n",
      "y_test samples : \n",
      " [219000 115000 885837 388000 447000]\n"
     ]
    }
   ],
   "source": [
    "\n",
    "# FEATURE SELECTION & DATA SPLIT\n",
    "\n",
    "#Independent Variables- predictor variable\n",
    "X_var = dataSource[['Beds', 'Baths', 'Square Feet']].values\n",
    "\n",
    "#Dependent Variable - Variable being predicted\n",
    "Y_var = dataSource['Listing Price'].values\n",
    "\n",
    "#Split data into 2 SUBSETS: train set and test set\n",
    "X_train, X_test, y_train, y_test = train_test_split(X_var, Y_var, test_size = 0.3, random_state = 4)\n",
    "\n",
    "print(cl('X_train samples : \\n', attrs = ['bold']), X_train[0:5])\n",
    "print(cl('X_test samples : \\n', attrs = ['bold']), X_test[0:5])\n",
    "print(cl('y_train samples : \\n', attrs = ['bold']), y_train[0:5])\n",
    "print(cl('y_test samples : \\n', attrs = ['bold']), y_test[0:5])"
   ]
  },
  {
   "cell_type": "markdown",
   "metadata": {},
   "source": [
    "Model_selection is a method for setting a blueprint to analyze data and then using it to measure new data. Selecting a proper model allows you to generate accurate results when making a prediction.\n",
    "\n",
    "\n",
    "https://www.bitdegree.org/learn/train-test-split"
   ]
  },
  {
   "cell_type": "code",
   "execution_count": 5,
   "metadata": {},
   "outputs": [],
   "source": [
    "# MODELING\n",
    "\n",
    "\n",
    "### \n",
    "'''\n",
    "1. OLS\n",
    " Ordinary Least Squares regression (OLS) is a common technique for estimating coefficients \n",
    " of linear regression equations which describe the relationship between one or more \n",
    " independent quantitative variables and a dependent variable (simple or multiple linear regression).\n",
    "'''\n",
    "ols = LinearRegression()\n",
    "ols.fit(X_train, y_train)\n",
    "ols_yhat = ols.predict(X_test)\n",
    "\n",
    "'''\n",
    "2. Lasso\n",
    " Lasso regression is a type of linear regression that uses shrinkage. \n",
    " Shrinkage is where data values are shrunk towards a central point, like the mean\n",
    "'''\n",
    "lasso = Lasso(alpha = 1)\n",
    "lasso.fit(X_train, y_train)\n",
    "lasso_yhat = lasso.predict(X_test)\n",
    "\n",
    "'''\n",
    "3. Ridge \n",
    " is a method of estimating the coefficients of multiple-regression models \n",
    " in scenarios where the independent variables are highly correlated.'''\n",
    "ridge = Ridge(alpha = 0.3)\n",
    "ridge.fit(X_train, y_train)\n",
    "ridge_yhat = ridge.predict(X_test)\n",
    "\n",
    "'''\n",
    "4. ElasticNet\n",
    " The Elastic-Net is a regularized regression method that linearly\n",
    " combines both penalties i.e. L1 and L2 of the Lasso and Ridge regression methods.\n",
    " It is useful when there are multiple correlated features.\n",
    "'''\n",
    "en = ElasticNet(alpha = 0.67)\n",
    "en.fit(X_train, y_train)\n",
    "en_yhat = en.predict(X_test)\n",
    "\n",
    "'''\n",
    "5. Bayesian\n",
    " Bayesian regression allows a natural mechanism to survive insufficient \n",
    " data or poorly distributed data by formulating linear regression using \n",
    " probability distributors rather than point estimates.\n",
    "'''\n",
    "bayesian = BayesianRidge()\n",
    "bayesian.fit(X_train, y_train)\n",
    "bayesian_yhat = bayesian.predict(X_test)\n",
    "\n",
    "\n"
   ]
  },
  {
   "cell_type": "code",
   "execution_count": null,
   "metadata": {},
   "outputs": [],
   "source": []
  },
  {
   "cell_type": "markdown",
   "metadata": {},
   "source": [
    "Fig 1: https://www.alchemer.com/resources/blog/regression-analysis/"
   ]
  },
  {
   "cell_type": "code",
   "execution_count": 6,
   "metadata": {},
   "outputs": [
    {
     "name": "stdout",
     "output_type": "stream",
     "text": [
      "| EXPLAINED VARIANCE SCORE:               |\n",
      "===========================================\n",
      "| OLS Model  0.6476347995032612           |\n",
      "| Lasso Model 0.6476351478635625          |\n",
      "| Ridge Model0.6476395557526757           |\n",
      "| ElasticNet Model 0.6455462244610374     |\n",
      "| Bayesian Model 0.6326685483370438       |\n"
     ]
    }
   ],
   "source": [
    "# MODEL EVALUATION\n",
    "'''\n",
    " ‘explained_variance_score’ metric, the score should not below 0.60 or 60%.\n",
    " If it is the case, then our built model is not sufficient for our data to solve the given case. \n",
    " So, the ideal score of the ‘explained_variance_score’ should be between 0.60 and 1.0.\n",
    "'''\n",
    "\n",
    "\n",
    "# Explained Variance Score\n",
    "\n",
    "print('| EXPLAINED VARIANCE SCORE:               |')\n",
    "print('===========================================')\n",
    "print('| OLS Model  {}'.format(evs(y_test, ols_yhat)) ,'          |')\n",
    "print('| Lasso Model {}'.format(evs(y_test, lasso_yhat)) ,'         |')\n",
    "print('| Ridge Model{}'.format(evs(y_test, ridge_yhat)) ,'          |')\n",
    "print('| ElasticNet Model {}'.format(evs(y_test, en_yhat)) ,'    |')\n",
    "print('| Bayesian Model {}'.format(evs(y_test, bayesian_yhat)) ,'      |')\n"
   ]
  },
  {
   "cell_type": "code",
   "execution_count": 7,
   "metadata": {},
   "outputs": [
    {
     "name": "stdout",
     "output_type": "stream",
     "text": [
      "| R-SQUARED:                               |\n",
      "============================================\n",
      "| OLS Model:  0.6476271181314507           |\n",
      "| Lasso Model:  0.6476274678140661         |\n",
      "| Ridge Model:  0.6476318839222759         |\n",
      "| ElasticNet Model:  0.645545215659568     |\n",
      "| Bayesian Model:  0.6326658019846867      |\n"
     ]
    }
   ],
   "source": [
    "'''\n",
    "he r2_score (R-squared) metric a measurement of how well the dependent variable explains the vari-ance of the independent variable. \n",
    "It is the most popu-lar evaluation metric for regression models. The ideal r2_score of a build should be more than 0.70 (at least > 0.60). \n",
    "For the experiment all regression models were compared to see who had the best score.\n",
    "'''\n",
    "\n",
    "# 2. R-squared\n",
    "\n",
    "print('| R-SQUARED:                               |')\n",
    "print('============================================')\n",
    "print('| OLS Model:  {}'.format(r2(y_test, ols_yhat)),'          |')\n",
    "print('| Lasso Model:  {}'.format(r2(y_test, lasso_yhat)),'        |')\n",
    "print('| Ridge Model:  {}'.format(r2(y_test, ridge_yhat)),'        |')\n",
    "print('| ElasticNet Model:  {}'.format(r2(y_test, en_yhat)),'    |')\n",
    "print('| Bayesian Model:  {}'.format(r2(y_test, bayesian_yhat)) ,'     |')"
   ]
  }
 ],
 "metadata": {
  "kernelspec": {
   "display_name": "Python 3.10.8 64-bit",
   "language": "python",
   "name": "python3"
  },
  "language_info": {
   "codemirror_mode": {
    "name": "ipython",
    "version": 3
   },
   "file_extension": ".py",
   "mimetype": "text/x-python",
   "name": "python",
   "nbconvert_exporter": "python",
   "pygments_lexer": "ipython3",
   "version": "3.10.8"
  },
  "orig_nbformat": 4,
  "vscode": {
   "interpreter": {
    "hash": "b0fa6594d8f4cbf19f97940f81e996739fb7646882a419484c72d19e05852a7e"
   }
  }
 },
 "nbformat": 4,
 "nbformat_minor": 2
}
